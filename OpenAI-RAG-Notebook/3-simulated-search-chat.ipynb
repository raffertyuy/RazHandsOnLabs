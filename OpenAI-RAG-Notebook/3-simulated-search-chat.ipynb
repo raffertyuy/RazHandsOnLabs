{
 "cells": [
  {
   "cell_type": "code",
   "execution_count": 1,
   "metadata": {},
   "outputs": [
    {
     "data": {
      "text/plain": [
       "True"
      ]
     },
     "execution_count": 1,
     "metadata": {},
     "output_type": "execute_result"
    }
   ],
   "source": [
    "import os\n",
    "from dotenv import load_dotenv\n",
    "load_dotenv()"
   ]
  },
  {
   "cell_type": "code",
   "execution_count": 34,
   "metadata": {},
   "outputs": [],
   "source": [
    "def get_top_food_delicacies(city):\n",
    "    city_food_dict = {\n",
    "        \"Singapore\": [\"Hainanese Chicken Rice\", \"Chilli Crab\", \"Laksa\", \"Char Kway Teow\"],\n",
    "        \"Bangkok\": [\"Pad Thai\", \"Green Curry\", \"Tom Yum Goong\", \"Mango Sticky Rice\"],\n",
    "        \"Jakarta\": [\"Nasi Goreng\", \"Sate\", \"Rendang\", \"Gado-Gado\"],\n",
    "        \"Kuala Lumpur\": [\"Nasi Lemak\", \"Roti Canai\", \"Satay\", \"Durian\"],\n",
    "        \"Manila\": [\"Adobo\", \"Sinigang\", \"Lechon\", \"Halo-Halo\"],\n",
    "        \"Tokyo\": [\"Sushi\", \"Ramen\", \"Tempura\", \"Okonomiyaki\"],\n",
    "        \"Ho Chi Minh\": [\"Pho\", \"Banh Mi\", \"Goi Cuon\", \"Bun Thit Nuong\"]\n",
    "    }\n",
    "\n",
    "    if city in city_food_dict:\n",
    "        return \", \".join(city_food_dict[city])\n",
    "    else:\n",
    "        return \"No data for this city\""
   ]
  },
  {
   "cell_type": "code",
   "execution_count": 6,
   "metadata": {},
   "outputs": [
    {
     "data": {
      "text/plain": [
       "'Hainanese Chicken Rice, Chilli Crab, Laksa, Char Kway Teow'"
      ]
     },
     "execution_count": 6,
     "metadata": {},
     "output_type": "execute_result"
    }
   ],
   "source": [
    "get_top_food_delicacies(\"Singapore\")"
   ]
  },
  {
   "cell_type": "code",
   "execution_count": 7,
   "metadata": {},
   "outputs": [],
   "source": [
    "from openai import AzureOpenAI\n",
    "\n",
    "client = AzureOpenAI(\n",
    "  azure_endpoint = os.getenv(\"AZURE_OPENAI_ENDPOINT\"), # replace with your endpoint\n",
    "  api_key=os.getenv(\"AZURE_OPENAI_API_KEY\"), # replace with your key  \n",
    "  api_version=\"2023-05-15\"\n",
    ")"
   ]
  },
  {
   "cell_type": "markdown",
   "metadata": {},
   "source": [
    "## Initial Message"
   ]
  },
  {
   "cell_type": "code",
   "execution_count": 32,
   "metadata": {},
   "outputs": [],
   "source": [
    "user_query = \"What are the top food delicacies in Singapore?\""
   ]
  },
  {
   "cell_type": "code",
   "execution_count": 20,
   "metadata": {},
   "outputs": [
    {
     "name": "stdout",
     "output_type": "stream",
     "text": [
      "Singapore\n"
     ]
    }
   ],
   "source": [
    "response = client.completions.create(\n",
    "  model=\"gpt35instruct\",\n",
    "  prompt=\"Extract the city name from this message: \" + user_query,\n",
    "  max_tokens=50)\n",
    "\n",
    "city = response.choices[0].text.strip()\n",
    "print(city)\n",
    "\n",
    "retrieved_data = get_top_food_delicacies(city)\n",
    "print(retrieved_data)"
   ]
  },
  {
   "cell_type": "code",
   "execution_count": 36,
   "metadata": {},
   "outputs": [
    {
     "name": "stdout",
     "output_type": "stream",
     "text": [
      "You are an AI assistant who answers questions about food to try in different cities.\n",
      "If the there is retrieved data for this city, answer the question only with the retrieved data.\n",
      "If there is no retrieved data for this city, generate the answer to the best of your ability, with a disclaimer that the data may not be accurate.\n",
      "If the question is not about food, you kindly decline.\n",
      "\n",
      "## Retrieved Data\n",
      "Hainanese Chicken Rice, Chilli Crab, Laksa, Char Kway Teow\n"
     ]
    }
   ],
   "source": [
    "chat_system_prompt = \"\"\"You are an AI assistant who answers questions about food to try in different cities.\n",
    "If the there is retrieved data for this city, answer the question only with the retrieved data.\n",
    "If there is no retrieved data for this city, generate the answer to the best of your ability, with a disclaimer that the data may not be accurate.\n",
    "If the question is not about food, you kindly decline.\n",
    "\n",
    "## Retrieved Data\n",
    "\"\"\" + retrieved_data\n",
    "\n",
    "print(chat_system_prompt)"
   ]
  },
  {
   "cell_type": "code",
   "execution_count": 37,
   "metadata": {},
   "outputs": [
    {
     "name": "stdout",
     "output_type": "stream",
     "text": [
      "In Singapore, some of the top food delicacies you should try are:\n",
      "\n",
      "- Hainanese Chicken Rice: A dish of poached chicken and seasoned rice, served with chili sauce and usually with cucumber garnishes.\n",
      "- Chilli Crab: A seafood dish where mud crabs are stir-fried in a semi-thick, sweet and savory tomato and chili-based sauce.\n",
      "- Laksa: A spicy noodle soup that blends Chinese and Malay cuisine, it's a popular Peranakan dish.\n",
      "- Char Kway Teow: A stir-fried noodle dish that is commonly found at hawker centers and food courts in Singapore. It's made with flat rice noodles, egg, prawns, deshelled blood cockles, bean sprouts, and Chinese chives, stir-fried in pork fat with a dark soy sauce, a small quantity of belachan, and with accompaniments like Chinese sausage and fishcake.\n"
     ]
    }
   ],
   "source": [
    "response = client.chat.completions.create(\n",
    "    model=\"gpt4\", # model = \"deployment_name\".\n",
    "    messages=[\n",
    "        {\"role\": \"system\", \"content\": chat_system_prompt},\n",
    "        {\"role\": \"user\", \"content\": user_query}\n",
    "    ]\n",
    ")\n",
    "\n",
    "ai_response = response.choices[0].message.content\n",
    "print(ai_response)"
   ]
  },
  {
   "cell_type": "code",
   "execution_count": 38,
   "metadata": {},
   "outputs": [],
   "source": [
    "user_query = \"Which of these are suitable for Vegetarians?\""
   ]
  },
  {
   "cell_type": "code",
   "execution_count": 39,
   "metadata": {},
   "outputs": [
    {
     "name": "stdout",
     "output_type": "stream",
     "text": [
      "I cannot extract a city name from this message as it does not contain any location information.\n",
      "No data for this city\n"
     ]
    }
   ],
   "source": [
    "response = client.completions.create(\n",
    "  model=\"gpt35instruct\",\n",
    "  prompt=\"Extract the city name from this message: \" + user_query,\n",
    "  max_tokens=50)\n",
    "\n",
    "city = response.choices[0].text.strip()\n",
    "print(city)\n",
    "\n",
    "retrieved_data = get_top_food_delicacies(city)\n",
    "print(retrieved_data)"
   ]
  },
  {
   "cell_type": "code",
   "execution_count": 40,
   "metadata": {},
   "outputs": [
    {
     "name": "stdout",
     "output_type": "stream",
     "text": [
      "You are an AI assistant who answers questions about food to try in different cities.\n",
      "If the there is retrieved data for this city, answer the question only with the retrieved data.\n",
      "If there is no retrieved data for this city, generate the answer to the best of your ability, with a disclaimer that the data may not be accurate.\n",
      "If the question is not about food, you kindly decline.\n",
      "\n",
      "## Retrieved Data\n",
      "No data for this city\n"
     ]
    }
   ],
   "source": [
    "chat_system_prompt = \"\"\"You are an AI assistant who answers questions about food to try in different cities.\n",
    "If the there is retrieved data for this city, answer the question only with the retrieved data.\n",
    "If there is no retrieved data for this city, generate the answer to the best of your ability, with a disclaimer that the data may not be accurate.\n",
    "If the question is not about food, you kindly decline.\n",
    "\n",
    "## Retrieved Data\n",
    "\"\"\" + retrieved_data\n",
    "\n",
    "print(chat_system_prompt)"
   ]
  },
  {
   "cell_type": "code",
   "execution_count": 41,
   "metadata": {},
   "outputs": [
    {
     "name": "stdout",
     "output_type": "stream",
     "text": [
      "For vegetarians visiting Singapore, the general versions of these dishes may not be suitable due to their meat and seafood content. However, Singapore is quite accommodating to different dietary restrictions, and vegetarian versions of many local dishes can be found. Here's how the aforementioned dishes might be adapted:\n",
      "\n",
      "- Hainanese Chicken Rice: Vegetarian versions may substitute the chicken with tofu or mock meat, and ensure that the rice is cooked with vegetable stock.\n",
      "- Laksa: A vegetarian laksa can be made without shrimp paste or fish, using vegetable broth and featuring tofu puffs, mock seafood, and plenty of vegetables.\n",
      "- Char Kway Teow: This can be made vegetarian by omitting the egg, prawns, blood cockles, and Chinese sausage, and using stir-fried vegetables and tofu as the main ingredients instead.\n",
      "\n",
      "Furthermore, Singapore has a strong Indian community, which means there's also an abundance of vegetarian Indian food available, from dosas to curries and beyond. Always specify your dietary preferences when ordering, as many places are used to customizing dishes for vegetarians.\n",
      "\n",
      "*Note: The accuracy of these vegetarian alternatives is based on typical practices in adapting local specialties to vegetarian diets and may vary by eatery.*\n"
     ]
    }
   ],
   "source": [
    "response = client.chat.completions.create(\n",
    "    model=\"gpt4\", # model = \"deployment_name\".\n",
    "    messages=[\n",
    "        {\"role\": \"system\", \"content\": chat_system_prompt},\n",
    "        {\"role\": \"user\", \"content\": \"What are the top food delicacies in Singapore?\"},\n",
    "        {\"role\": \"assistant\", \"content\": ai_response},\n",
    "        {\"role\": \"user\", \"content\": user_query}\n",
    "    ]\n",
    ")\n",
    "\n",
    "ai_response = response.choices[0].message.content\n",
    "print(ai_response)"
   ]
  }
 ],
 "metadata": {
  "kernelspec": {
   "display_name": "Python 3",
   "language": "python",
   "name": "python3"
  },
  "language_info": {
   "codemirror_mode": {
    "name": "ipython",
    "version": 3
   },
   "file_extension": ".py",
   "mimetype": "text/x-python",
   "name": "python",
   "nbconvert_exporter": "python",
   "pygments_lexer": "ipython3",
   "version": "3.11.8"
  }
 },
 "nbformat": 4,
 "nbformat_minor": 2
}
