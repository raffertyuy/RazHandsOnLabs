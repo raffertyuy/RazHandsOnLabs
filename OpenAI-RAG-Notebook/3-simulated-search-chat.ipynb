{
 "cells": [
  {
   "cell_type": "code",
   "execution_count": 2,
   "metadata": {},
   "outputs": [
    {
     "data": {
      "text/plain": [
       "True"
      ]
     },
     "execution_count": 2,
     "metadata": {},
     "output_type": "execute_result"
    }
   ],
   "source": [
    "import os\n",
    "from dotenv import load_dotenv\n",
    "load_dotenv()"
   ]
  },
  {
   "cell_type": "code",
   "execution_count": 3,
   "metadata": {},
   "outputs": [],
   "source": [
    "def get_top_food_delicacies(city):\n",
    "    city_food_dict = {\n",
    "        \"Singapore\": [\"Hainanese Chicken Rice\", \"Chilli Crab\", \"Laksa\", \"Char Kway Teow\"],\n",
    "        \"Bangkok\": [\"Pad Thai\", \"Green Curry\", \"Tom Yum Goong\", \"Mango Sticky Rice\"],\n",
    "        \"Jakarta\": [\"Nasi Goreng\", \"Sate\", \"Rendang\", \"Gado-Gado\"],\n",
    "        \"Kuala Lumpur\": [\"Nasi Lemak\", \"Roti Canai\", \"Satay\", \"Durian\"],\n",
    "        \"Manila\": [\"Adobo\", \"Sinigang\", \"Lechon\", \"Halo-Halo\"],\n",
    "        \"Tokyo\": [\"Sushi\", \"Ramen\", \"Tempura\", \"Okonomiyaki\"],\n",
    "        \"Ho Chi Minh\": [\"Pho\", \"Banh Mi\", \"Goi Cuon\", \"Bun Thit Nuong\"]\n",
    "    }\n",
    "\n",
    "    if city in city_food_dict:\n",
    "        return \", \".join(city_food_dict[city])\n",
    "    else:\n",
    "        return \"No data for this city\""
   ]
  },
  {
   "cell_type": "code",
   "execution_count": 4,
   "metadata": {},
   "outputs": [
    {
     "data": {
      "text/plain": [
       "'Hainanese Chicken Rice, Chilli Crab, Laksa, Char Kway Teow'"
      ]
     },
     "execution_count": 4,
     "metadata": {},
     "output_type": "execute_result"
    }
   ],
   "source": [
    "get_top_food_delicacies(\"Singapore\")"
   ]
  },
  {
   "cell_type": "code",
   "execution_count": 5,
   "metadata": {},
   "outputs": [],
   "source": [
    "from openai import AzureOpenAI\n",
    "\n",
    "client = AzureOpenAI(\n",
    "  azure_endpoint = os.getenv(\"AZURE_OPENAI_ENDPOINT\"), # replace with your endpoint\n",
    "  api_key=os.getenv(\"AZURE_OPENAI_API_KEY\"), # replace with your key  \n",
    "  api_version=\"2023-05-15\"\n",
    ")"
   ]
  },
  {
   "cell_type": "markdown",
   "metadata": {},
   "source": [
    "## Initial Message"
   ]
  },
  {
   "cell_type": "code",
   "execution_count": 6,
   "metadata": {},
   "outputs": [],
   "source": [
    "user_query = \"What are the top food delicacies in Singapore?\""
   ]
  },
  {
   "cell_type": "code",
   "execution_count": 7,
   "metadata": {},
   "outputs": [
    {
     "name": "stdout",
     "output_type": "stream",
     "text": [
      "Singapore\n",
      "Hainanese Chicken Rice, Chilli Crab, Laksa, Char Kway Teow\n"
     ]
    }
   ],
   "source": [
    "response = client.completions.create(\n",
    "  model=\"gpt35instruct\",\n",
    "  prompt=\"Extract the city name from this message: \" + user_query,\n",
    "  max_tokens=50)\n",
    "\n",
    "city = response.choices[0].text.strip()\n",
    "print(city)\n",
    "\n",
    "retrieved_data = get_top_food_delicacies(city)\n",
    "print(retrieved_data)"
   ]
  },
  {
   "cell_type": "code",
   "execution_count": 10,
   "metadata": {},
   "outputs": [
    {
     "name": "stdout",
     "output_type": "stream",
     "text": [
      "You are an AI assistant who answers questions about food to try in different cities.\n",
      "If there is retrieved data for this city, answer the question only with the retrieved data.\n",
      "If there is no retrieved data for this city, generate the answer to the best of your ability, with a disclaimer that the data may not be accurate.\n",
      "If the question is not about food, you kindly decline.\n",
      "\n",
      "## Retrieved Data\n",
      "Hainanese Chicken Rice, Chilli Crab, Laksa, Char Kway Teow\n"
     ]
    }
   ],
   "source": [
    "chat_system_prompt = \"\"\"You are an AI assistant who answers questions about food to try in different cities.\n",
    "If there is retrieved data for this city, answer the question only with the retrieved data.\n",
    "If there is no retrieved data for this city, generate the answer to the best of your ability, with a disclaimer that the data may not be accurate.\n",
    "If the question is not about food, you kindly decline.\n",
    "\n",
    "## Retrieved Data\n",
    "\"\"\" + retrieved_data\n",
    "\n",
    "print(chat_system_prompt)"
   ]
  },
  {
   "cell_type": "code",
   "execution_count": 11,
   "metadata": {},
   "outputs": [
    {
     "name": "stdout",
     "output_type": "stream",
     "text": [
      "In Singapore, some of the top food delicacies include Hainanese Chicken Rice, Chilli Crab, Laksa, and Char Kway Teow. These dishes are iconic in Singaporean cuisine and are must-tries for anyone visiting the city.\n"
     ]
    }
   ],
   "source": [
    "response = client.chat.completions.create(\n",
    "    model=\"gpt4\", # model = \"deployment_name\".\n",
    "    messages=[\n",
    "        {\"role\": \"system\", \"content\": chat_system_prompt},\n",
    "        {\"role\": \"user\", \"content\": user_query}\n",
    "    ]\n",
    ")\n",
    "\n",
    "ai_response = response.choices[0].message.content\n",
    "print(ai_response)"
   ]
  },
  {
   "cell_type": "code",
   "execution_count": 12,
   "metadata": {},
   "outputs": [],
   "source": [
    "user_query = \"Which of these are suitable for Vegetarians?\""
   ]
  },
  {
   "cell_type": "code",
   "execution_count": 13,
   "metadata": {},
   "outputs": [
    {
     "name": "stdout",
     "output_type": "stream",
     "text": [
      "There is no specific city mentioned in this message.\n",
      "No data for this city\n"
     ]
    }
   ],
   "source": [
    "response = client.completions.create(\n",
    "  model=\"gpt35instruct\",\n",
    "  prompt=\"Extract the city name from this message: \" + user_query,\n",
    "  max_tokens=50)\n",
    "\n",
    "city = response.choices[0].text.strip()\n",
    "print(city)\n",
    "\n",
    "retrieved_data = get_top_food_delicacies(city)\n",
    "print(retrieved_data)"
   ]
  },
  {
   "cell_type": "code",
   "execution_count": 14,
   "metadata": {},
   "outputs": [
    {
     "name": "stdout",
     "output_type": "stream",
     "text": [
      "You are an AI assistant who answers questions about food to try in different cities.\n",
      "If the there is retrieved data for this city, answer the question only with the retrieved data.\n",
      "If there is no retrieved data for this city, generate the answer to the best of your ability, with a disclaimer that the data may not be accurate.\n",
      "If the question is not about food, you kindly decline.\n",
      "\n",
      "## Retrieved Data\n",
      "No data for this city\n"
     ]
    }
   ],
   "source": [
    "chat_system_prompt = \"\"\"You are an AI assistant who answers questions about food to try in different cities.\n",
    "If the there is retrieved data for this city, answer the question only with the retrieved data.\n",
    "If there is no retrieved data for this city, generate the answer to the best of your ability, with a disclaimer that the data may not be accurate.\n",
    "If the question is not about food, you kindly decline.\n",
    "\n",
    "## Retrieved Data\n",
    "\"\"\" + retrieved_data\n",
    "\n",
    "print(chat_system_prompt)"
   ]
  },
  {
   "cell_type": "code",
   "execution_count": 15,
   "metadata": {},
   "outputs": [
    {
     "name": "stdout",
     "output_type": "stream",
     "text": [
      "For vegetarians visiting Singapore, there are vegetarian-friendly versions of some traditional dishes, as well as a variety of other vegetarian options. Here are a few that you might find:\n",
      "\n",
      "1. **Vegetarian Laksa** - Some places offer a vegetarian version of Laksa, which is made without shrimp paste and replaces seafood and meat with tofu and vegetables.\n",
      "\n",
      "2. **Vegetarian Char Kway Teow** - This is a stir-fried noodle dish that can be made vegetarian by excluding eggs and seafood and instead utilizing tofu and veggies.\n",
      "\n",
      "3. **Hainanese Chicken Rice (Vegetarian Version)** - Some restaurants craft a vegetarian rendition using mock meat (such as soy or seitan) to simulate the texture and flavor of chicken.\n",
      "\n",
      "4. **Roti Prata with Dhal** - Roti Prata, an Indian-influenced flatbread, served with dhal (lentil curry), is vegetarian and widely available in Singapore.\n",
      "\n",
      "5. **Vegetarian Dim Sum** - There are dim sum options that are made without meat or seafood, including various dumplings, buns, and other small bites filled or made with vegetables.\n",
      "\n",
      "6. **Thunder Tea Rice** - A traditional Hakka dish that is naturally vegetarian, featuring rice with assorted greens, nuts, and seeds, served with a unique herbaceous tea-based soup.\n",
      "\n",
      "7. **Vegetarian Hawker Stalls** - Some hawker centers in Singapore will have stalls that are specifically vegetarian, offering a range of dishes from noodle soups to rice dishes and more, all prepared without animal products.\n",
      "\n",
      "Always inquire about the ingredients if you're at a hawker center or restaurant since even vegetable-based dishes may sometimes include fish sauce or shrimp paste for flavoring. In Singapore, there is a growing appreciation for vegetarian and vegan cuisine, so you can expect to find a good variety of options.\n"
     ]
    }
   ],
   "source": [
    "response = client.chat.completions.create(\n",
    "    model=\"gpt4\", # model = \"deployment_name\".\n",
    "    messages=[\n",
    "        {\"role\": \"system\", \"content\": chat_system_prompt},\n",
    "        {\"role\": \"user\", \"content\": \"What are the top food delicacies in Singapore?\"},\n",
    "        {\"role\": \"assistant\", \"content\": ai_response},\n",
    "        {\"role\": \"user\", \"content\": user_query}\n",
    "    ]\n",
    ")\n",
    "\n",
    "ai_response = response.choices[0].message.content\n",
    "print(ai_response)"
   ]
  }
 ],
 "metadata": {
  "kernelspec": {
   "display_name": "Python 3",
   "language": "python",
   "name": "python3"
  },
  "language_info": {
   "codemirror_mode": {
    "name": "ipython",
    "version": 3
   },
   "file_extension": ".py",
   "mimetype": "text/x-python",
   "name": "python",
   "nbconvert_exporter": "python",
   "pygments_lexer": "ipython3",
   "version": "3.11.8"
  }
 },
 "nbformat": 4,
 "nbformat_minor": 2
}
