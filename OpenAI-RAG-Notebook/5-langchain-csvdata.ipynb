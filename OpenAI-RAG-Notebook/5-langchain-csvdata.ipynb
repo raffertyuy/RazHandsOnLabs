{
 "cells": [
  {
   "cell_type": "code",
   "execution_count": 1,
   "metadata": {},
   "outputs": [
    {
     "data": {
      "text/plain": [
       "True"
      ]
     },
     "execution_count": 1,
     "metadata": {},
     "output_type": "execute_result"
    }
   ],
   "source": [
    "import os\n",
    "from dotenv import load_dotenv\n",
    "load_dotenv()"
   ]
  },
  {
   "cell_type": "code",
   "execution_count": 2,
   "metadata": {},
   "outputs": [
    {
     "name": "stdout",
     "output_type": "stream",
     "text": [
      "['Name', 'Gender', 'Age']\n",
      "['John', 'M', '13']\n",
      "['Steve', 'M', '25']\n",
      "['Sarah', 'F', '18']\n",
      "['Jess', 'F', '45']\n",
      "['Will', 'M', '50']\n"
     ]
    }
   ],
   "source": [
    "import csv\n",
    "with open('people.csv', newline='', encoding='utf-8') as f:\n",
    "    reader = csv.reader(f)\n",
    "    for row in reader:\n",
    "        print(row)"
   ]
  },
  {
   "cell_type": "code",
   "execution_count": 3,
   "metadata": {},
   "outputs": [
    {
     "data": {
      "text/plain": [
       "'\\nThe average age of males in the list is 29.33 years old and the average age of females is 31.5 years old.'"
      ]
     },
     "execution_count": 3,
     "metadata": {},
     "output_type": "execute_result"
    }
   ],
   "source": [
    "from langchain_openai import AzureOpenAI\n",
    "\n",
    "llm = AzureOpenAI(\n",
    "    azure_endpoint = os.getenv(\"AZURE_OPENAI_ENDPOINT\"), # replace with your endpoint\n",
    "    api_key=os.getenv(\"AZURE_OPENAI_API_KEY\"), # replace with your key  \n",
    "    api_version=\"2023-05-15\",\n",
    "    deployment_name=\"gpt35instruct\",\n",
    "    max_tokens=50,\n",
    "    temperature=0\n",
    ")\n",
    "\n",
    "system_prompt = '''What is the average age of the people in the list, by gender\n",
    "\n",
    "Name,Gender,Age\n",
    "John,M,13\n",
    "Steve,M,25\n",
    "Sarah,F,18\n",
    "Jess,F,45\n",
    "Will,M,50\n",
    "'''\n",
    "\n",
    "llm.invoke(system_prompt)"
   ]
  },
  {
   "cell_type": "code",
   "execution_count": 4,
   "metadata": {},
   "outputs": [
    {
     "data": {
      "text/plain": [
       "AIMessage(content='To calculate the average age by gender, we will separate the individuals by gender and then calculate the average for each group.\\n\\nFor males (M):\\n- John: 13 years\\n- Steve: 25 years\\n- Will: 50 years\\n\\n')"
      ]
     },
     "execution_count": 4,
     "metadata": {},
     "output_type": "execute_result"
    }
   ],
   "source": [
    "from langchain_core.messages import HumanMessage, AIMessage\n",
    "from langchain_openai import AzureChatOpenAI\n",
    "\n",
    "chat = AzureChatOpenAI(\n",
    "    azure_endpoint = os.getenv(\"AZURE_OPENAI_ENDPOINT\"), # replace with your endpoint\n",
    "    api_key=os.getenv(\"AZURE_OPENAI_API_KEY\"), # replace with your key  \n",
    "    api_version=\"2023-05-15\",\n",
    "    deployment_name=\"gpt4\",\n",
    "    max_tokens=50,\n",
    "    temperature=0\n",
    ")\n",
    "\n",
    "system_prompt = '''What is the average age of the people in the list, by gender\n",
    "\n",
    "Name,Gender,Age\n",
    "John,M,13\n",
    "Steve,M,25\n",
    "Sarah,F,18\n",
    "Jess,F,45\n",
    "Will,M,50\n",
    "'''\n",
    "\n",
    "messages = [\n",
    "    HumanMessage(content=system_prompt)\n",
    "]\n",
    "\n",
    "chat.invoke(messages)"
   ]
  }
 ],
 "metadata": {
  "kernelspec": {
   "display_name": "Python 3",
   "language": "python",
   "name": "python3"
  },
  "language_info": {
   "codemirror_mode": {
    "name": "ipython",
    "version": 3
   },
   "file_extension": ".py",
   "mimetype": "text/x-python",
   "name": "python",
   "nbconvert_exporter": "python",
   "pygments_lexer": "ipython3",
   "version": "3.11.8"
  }
 },
 "nbformat": 4,
 "nbformat_minor": 2
}
