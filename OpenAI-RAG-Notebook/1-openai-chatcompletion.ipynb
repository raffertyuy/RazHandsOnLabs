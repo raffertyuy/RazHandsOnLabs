{
 "cells": [
  {
   "cell_type": "code",
   "execution_count": 3,
   "metadata": {},
   "outputs": [
    {
     "data": {
      "text/plain": [
       "True"
      ]
     },
     "execution_count": 3,
     "metadata": {},
     "output_type": "execute_result"
    }
   ],
   "source": [
    "import os\n",
    "from dotenv import load_dotenv\n",
    "load_dotenv()"
   ]
  },
  {
   "cell_type": "code",
   "execution_count": 5,
   "metadata": {},
   "outputs": [
    {
     "name": "stdout",
     "output_type": "stream",
     "text": [
      "Yes, several Azure AI services do support the use of customer-managed keys (CMKs) for data encryption at rest, a feature provided through Azure Key Vault. CMKs allow customers to have control over the encryption keys, including the ability to manage the lifecycle of the keys and to audit their usage.\n",
      "\n",
      "Services such as Azure Cognitive Services allow you to secure data at rest using encryption keys that you manage in Azure Key Vault. This enables you to maintain control over the keys used to encrypt your data. The use of CMKs is particularly important for organizations with strict compliance or regulatory requirements.\n",
      "\n",
      "As of my knowledge cutoff date, the following Azure services are examples that support Customer Managed Keys:\n",
      "\n",
      "1. Azure Cognitive Services (a subset of services within)\n",
      "2. Azure Blob Storage\n",
      "3. Azure Data Lake Storage\n",
      "4. Azure SQL Database\n",
      "5. Azure Synapse Analytics\n",
      "6. Azure Cosmos DB\n",
      "\n",
      "It's important to note that the specific support for CMKs can vary by service and sometimes even by specific features within a service. Therefore, it is recommended to review the current Azure documentation or contact Azure support for the latest information on the support for Customer Managed Keys in Azure AI services or any other Azure service you are interested in.\n"
     ]
    }
   ],
   "source": [
    "from openai import AzureOpenAI\n",
    "\n",
    "client = AzureOpenAI(\n",
    "  azure_endpoint = os.getenv(\"AZURE_OPENAI_ENDPOINT\"), # replace with your endpoint\n",
    "  api_key=os.getenv(\"AZURE_OPENAI_API_KEY\"), # replace with your key  \n",
    "  api_version=\"2023-05-15\"\n",
    ")\n",
    "\n",
    "response = client.chat.completions.create(\n",
    "    model=\"gpt4\", # model = \"deployment_name\".\n",
    "    messages=[\n",
    "        {\"role\": \"system\", \"content\": \"You are a helpful assistant.\"},\n",
    "        {\"role\": \"user\", \"content\": \"Does Azure OpenAI support customer managed keys?\"},\n",
    "        {\"role\": \"assistant\", \"content\": \"Yes, customer managed keys are supported by Azure OpenAI.\"},\n",
    "        {\"role\": \"user\", \"content\": \"Do other Azure AI services support this too?\"}\n",
    "    ]\n",
    ")\n",
    "\n",
    "print(response.choices[0].message.content)"
   ]
  }
 ],
 "metadata": {
  "kernelspec": {
   "display_name": "Python 3",
   "language": "python",
   "name": "python3"
  },
  "language_info": {
   "codemirror_mode": {
    "name": "ipython",
    "version": 3
   },
   "file_extension": ".py",
   "mimetype": "text/x-python",
   "name": "python",
   "nbconvert_exporter": "python",
   "pygments_lexer": "ipython3",
   "version": "3.11.8"
  }
 },
 "nbformat": 4,
 "nbformat_minor": 2
}
