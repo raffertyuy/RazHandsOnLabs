{
 "cells": [
  {
   "cell_type": "code",
   "execution_count": 2,
   "metadata": {},
   "outputs": [
    {
     "data": {
      "text/plain": [
       "True"
      ]
     },
     "execution_count": 2,
     "metadata": {},
     "output_type": "execute_result"
    }
   ],
   "source": [
    "import os\n",
    "from dotenv import load_dotenv\n",
    "load_dotenv()"
   ]
  },
  {
   "cell_type": "code",
   "execution_count": 5,
   "metadata": {},
   "outputs": [
    {
     "name": "stdout",
     "output_type": "stream",
     "text": [
      "As of my knowledge cutoff date in March 2023, Azure OpenAI was typically using the security and compliance features provided by the broader Azure platform. However, customer-managed keys (CMKs) specifically for Azure OpenAI were not a widely advertised feature at that time.\n",
      "\n",
      "Azure does support CMKs through Azure Key Vault for a variety of services to give customers control over their encryption keys. When using CMKs, customers can manage the lifecycle of their keys, and monitor the use of keys for accessing their data.\n",
      "\n",
      "Azure OpenAI as a service incorporates a set of AI models including GPT-3, Codex, and DALL-E, among others. Given the pace at which cloud services evolve and add new features, it's advisable to consult the latest Azure documentation or contact Microsoft Azure Support directly for the most current information regarding CMK support for Azure OpenAI or any updates that might have been released after my last update in 2023.\n"
     ]
    },
    {
     "ename": "",
     "evalue": "",
     "output_type": "error",
     "traceback": [
      "\u001b[1;31mThe Kernel crashed while executing code in the current cell or a previous cell. \n",
      "\u001b[1;31mPlease review the code in the cell(s) to identify a possible cause of the failure. \n",
      "\u001b[1;31mClick <a href='https://aka.ms/vscodeJupyterKernelCrash'>here</a> for more info. \n",
      "\u001b[1;31mView Jupyter <a href='command:jupyter.viewOutput'>log</a> for further details."
     ]
    }
   ],
   "source": [
    "from openai import AzureOpenAI\n",
    "\n",
    "client = AzureOpenAI(\n",
    "  azure_endpoint = os.getenv(\"AZURE_OPENAI_ENDPOINT\"), # replace with your endpoint\n",
    "  api_key=os.getenv(\"AZURE_OPENAI_API_KEY\"), # replace with your key  \n",
    "  api_version=\"2023-05-15\"\n",
    ")\n",
    "\n",
    "response = client.chat.completions.create(\n",
    "    model=\"gpt4\", # model = \"deployment_name\".\n",
    "    messages=[\n",
    "        {\"role\": \"system\", \"content\": \"You are a helpful assistant.\"},\n",
    "        {\"role\": \"user\", \"content\": \"Does Azure OpenAI support customer managed keys?\"},\n",
    "        {\"role\": \"assistant\", \"content\": \"\"\"As of my knowledge cutoff date in March 2023, Azure OpenAI was typically using the security and compliance features provided by the broader Azure platform. However, customer-managed keys (CMKs) specifically for Azure OpenAI were not a widely advertised feature at that time.\n",
    "\n",
    "Azure does support CMKs through Azure Key Vault for a variety of services to give customers control over their encryption keys. When using CMKs, customers can manage the lifecycle of their keys, and monitor the use of keys for accessing their data.\n",
    "\n",
    "Azure OpenAI as a service incorporates a set of AI models including GPT-3, Codex, and DALL-E, among others. Given the pace at which cloud services evolve and add new features, it's advisable to consult the latest Azure documentation or contact Microsoft Azure Support directly for the most current information regarding CMK support for Azure OpenAI or any updates that might have been released after my last update in 2023.\"\"\"}\n",
    "    ]\n",
    ")\n",
    "\n",
    "print(response.choices[0].message.content)"
   ]
  }
 ],
 "metadata": {
  "kernelspec": {
   "display_name": "Python 3",
   "language": "python",
   "name": "python3"
  },
  "language_info": {
   "codemirror_mode": {
    "name": "ipython",
    "version": 3
   },
   "file_extension": ".py",
   "mimetype": "text/x-python",
   "name": "python",
   "nbconvert_exporter": "python",
   "pygments_lexer": "ipython3",
   "version": "3.11.8"
  }
 },
 "nbformat": 4,
 "nbformat_minor": 2
}
